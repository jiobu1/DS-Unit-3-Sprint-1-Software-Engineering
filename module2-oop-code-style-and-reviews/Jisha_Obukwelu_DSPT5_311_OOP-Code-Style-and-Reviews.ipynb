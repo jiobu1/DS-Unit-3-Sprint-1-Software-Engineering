{
 "cells": [
  {
   "cell_type": "code",
   "execution_count": 1,
   "metadata": {},
   "outputs": [
    {
     "name": "stdout",
     "output_type": "stream",
     "text": [
      "Looking in indexes: https://test.pypi.org/simple/\n",
      "Collecting cpi\n",
      "  Downloading https://test-files.pythonhosted.org/packages/6f/c9/e006d568dcbfb875dd4ec9c8091409f7a9daaa8df018039c8bb98a81b86e/cpi-1.2-py3-none-any.whl (3.9 kB)\n",
      "Installing collected packages: cpi\n",
      "Successfully installed cpi-1.2\n",
      "Note: you may need to restart the kernel to use updated packages.\n"
     ]
    }
   ],
   "source": [
    "# pip install -i https://test.pypi.org/simple/ cpi"
   ]
  },
  {
   "cell_type": "code",
   "execution_count": 4,
   "metadata": {},
   "outputs": [
    {
     "name": "stdout",
     "output_type": "stream",
     "text": [
      "Please choose a number (e.g. 10540) 10540\n",
      "[Start] Choose a year between 1992 and 2019 1992\n",
      "[Conversion] Choose a year between 1992 and 2019 2019\n",
      " If you had $10540 in 1992, you would have $19206.16 in 2019 dollars.\n"
     ]
    }
   ],
   "source": [
    "from cpi.calculator_class import *"
   ]
  },
  {
   "cell_type": "code",
   "execution_count": null,
   "metadata": {},
   "outputs": [],
   "source": []
  }
 ],
 "metadata": {
  "kernelspec": {
   "display_name": "Python 3",
   "language": "python",
   "name": "python3"
  },
  "language_info": {
   "codemirror_mode": {
    "name": "ipython",
    "version": 3
   },
   "file_extension": ".py",
   "mimetype": "text/x-python",
   "name": "python",
   "nbconvert_exporter": "python",
   "pygments_lexer": "ipython3",
   "version": "3.7.6"
  }
 },
 "nbformat": 4,
 "nbformat_minor": 4
}
