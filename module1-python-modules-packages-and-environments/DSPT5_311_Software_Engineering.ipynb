{
 "cells": [
  {
   "cell_type": "code",
   "execution_count": 1,
   "metadata": {},
   "outputs": [
    {
     "name": "stdout",
     "output_type": "stream",
     "text": [
      "Looking in indexes: https://test.pypi.org/simple/\n",
      "Collecting lambdata-jiobu1\n",
      "  Downloading https://test-files.pythonhosted.org/packages/69/4d/793f26f07bc885f72b56e0a3379a990aa3f02e6ca808279756aff9f2e5de/lambdata_jiobu1-1.0-py3-none-any.whl (2.9 kB)\n",
      "Installing collected packages: lambdata-jiobu1\n",
      "Successfully installed lambdata-jiobu1-1.0\n"
     ]
    }
   ],
   "source": [
    "# !pip install -i https://test.pypi.org/simple/ lambdata-jiobu1"
   ]
  },
  {
   "cell_type": "code",
   "execution_count": 2,
   "metadata": {},
   "outputs": [
    {
     "name": "stdout",
     "output_type": "stream",
     "text": [
      "1100\n"
     ]
    }
   ],
   "source": [
    "from my_lambdata.my_mod import enlarge\n",
    "\n",
    "x = 11\n",
    "print(enlarge(x))"
   ]
  },
  {
   "cell_type": "code",
   "execution_count": null,
   "metadata": {},
   "outputs": [],
   "source": []
  }
 ],
 "metadata": {
  "kernelspec": {
   "display_name": "Python 3",
   "language": "python",
   "name": "python3"
  },
  "language_info": {
   "codemirror_mode": {
    "name": "ipython",
    "version": 3
   },
   "file_extension": ".py",
   "mimetype": "text/x-python",
   "name": "python",
   "nbconvert_exporter": "python",
   "pygments_lexer": "ipython3",
   "version": "3.7.6"
  }
 },
 "nbformat": 4,
 "nbformat_minor": 4
}
