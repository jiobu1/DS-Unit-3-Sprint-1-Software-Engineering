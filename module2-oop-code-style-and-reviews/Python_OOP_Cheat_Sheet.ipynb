{
 "cells": [
  {
   "cell_type": "markdown",
   "metadata": {
    "colab_type": "text",
    "id": "cdK8NIgZsBpY"
   },
   "source": [
    "# Classes\n",
    "Classes are the object factories of many programming languages. The objects that classes create are typically called instances. Classes can also be used to organize code and/or data. Python Classes are similar to classes in other languages but in many ways they are quite different.\n",
    "\n",
    "[Python Class | python.org](https://docs.python.org/3/tutorial/classes.html?highlight=inheritance#classes)"
   ]
  },
  {
   "cell_type": "markdown",
   "metadata": {
    "colab_type": "text",
    "id": "2gz4gF4ksG4r"
   },
   "source": [
    "## Class Instantiation & The Instance Object\n",
    "\n",
    "When a class is called directly you get back an instance object."
   ]
  },
  {
   "cell_type": "code",
   "execution_count": 0,
   "metadata": {
    "colab": {},
    "colab_type": "code",
    "id": "lazMUWUrr01I"
   },
   "outputs": [],
   "source": [
    "class MyClass:\n",
    "    pass\n",
    "\n",
    "\n",
    "instance_object = MyClass()"
   ]
  },
  {
   "cell_type": "markdown",
   "metadata": {
    "colab_type": "text",
    "id": "i7-UQltFsNeD"
   },
   "source": [
    "## Magic methods\n",
    "Also known as Dunder Methods - these are invoked by Python and do not need to be called directly. For example, the `__call__()` method is automatically called when you call the object itself. See Callable Object below.\n",
    "\n",
    "[Python Magic Methods | python.org](https://docs.python.org/3/reference/datamodel.html#special-method-names)"
   ]
  },
  {
   "cell_type": "markdown",
   "metadata": {
    "colab_type": "text",
    "id": "tpsNd2O8zUPA"
   },
   "source": [
    "### Define Fields with `__init__()`\n",
    "\n",
    "This is the Init Method. It is used to populate fields on the instance object. The init method allows us to load the instance object with fields, this is the last step of the instantiation process. Fortunately the object already has all the class variables, instance methods, static methods and class methods pre-loaded. Inside any instance method the instance object has the name: self, this is an implict argument. You need to declare it in the method def but it is not expected to be passed in - that's the implicit part.\n",
    "\n",
    "Sometime this `__init__()` method is called the constructor, however it would be better to call it the initiallizer as the object has already been constructed at this point. There is another magic method `__new__()` - this is the proper constructor. The `__new__()` magic method will not be covered here as it is almost never used.\n",
    "\n",
    "[Python Init method | python.org](https://docs.python.org/3/reference/datamodel.html#object.__init__)"
   ]
  },
  {
   "cell_type": "code",
   "execution_count": 0,
   "metadata": {
    "colab": {
     "base_uri": "https://localhost:8080/",
     "height": 34
    },
    "colab_type": "code",
    "id": "Q3e_2wcazadk",
    "outputId": "973b6197-14ae-459f-e8cc-2362da398a8b"
   },
   "outputs": [
    {
     "name": "stdout",
     "output_type": "stream",
     "text": [
      "Jim Bob Joe\n"
     ]
    }
   ],
   "source": [
    "class Name:\n",
    "\n",
    "    def __init__(self, name):\n",
    "        self.name = name  # instance variable\n",
    "\n",
    "\n",
    "name_object = Name(\"Jim Bob Joe\")  # name passed to __init__\n",
    "print(name_object.name)"
   ]
  },
  {
   "cell_type": "markdown",
   "metadata": {
    "colab_type": "text",
    "id": "byy4TIhHzMIu"
   },
   "source": [
    "### Callable Object with `__call__()`"
   ]
  },
  {
   "cell_type": "markdown",
   "metadata": {
    "colab_type": "text",
    "id": "EpYRovw33IY4"
   },
   "source": [
    "In this example we'll see how we can add to the instance objects the ability to call them as if they where functions."
   ]
  },
  {
   "cell_type": "code",
   "execution_count": 0,
   "metadata": {
    "colab": {
     "base_uri": "https://localhost:8080/",
     "height": 51
    },
    "colab_type": "code",
    "id": "KMdycdxFsQ9a",
    "outputId": "c2896b4e-95c8-4dfa-b087-7960ac2cdaae"
   },
   "outputs": [
    {
     "name": "stdout",
     "output_type": "stream",
     "text": [
      "<__main__.Callable object at 0x7f8b43b030f0>\n",
      "42\n"
     ]
    }
   ],
   "source": [
    "class Callable:\n",
    "    fourty_two = 42  # class variable\n",
    "\n",
    "    def __call__(self):\n",
    "        return self.fourty_two\n",
    "\n",
    "\n",
    "callable_obj = Callable()\n",
    "print(callable_obj)  # not called\n",
    "print(callable_obj())  # called"
   ]
  },
  {
   "cell_type": "markdown",
   "metadata": {
    "colab_type": "text",
    "id": "8KvOU94YulMz"
   },
   "source": [
    "### Printable Object with `__str__()` and/or `__repr__()`\n",
    "\n",
    "`__str__()`: This magic method should return a string. This is used when the object is to be printed or any time the object is cast to a string.\n",
    "\n",
    "`__repr__()`: This magic method should also return a string. Typically this is a string of the class signature.\n",
    "\n",
    "So long as one of these methods are defined, the objects will be printable directly."
   ]
  },
  {
   "cell_type": "code",
   "execution_count": 0,
   "metadata": {
    "colab": {
     "base_uri": "https://localhost:8080/",
     "height": 51
    },
    "colab_type": "code",
    "id": "mokVS_T533ln",
    "outputId": "32de05b9-c124-4886-9b22-8a10e3641f5c"
   },
   "outputs": [
    {
     "name": "stdout",
     "output_type": "stream",
     "text": [
      "The answer is 42\n",
      "Printable()\n"
     ]
    }
   ],
   "source": [
    "class Printable:\n",
    "    class_answer = 42\n",
    "\n",
    "    def __str__(self):\n",
    "        return f\"The answer is {self.class_answer}\"\n",
    "\n",
    "    def __repr__(self):\n",
    "        return \"Printable()\"\n",
    "\n",
    "answer = Printable()\n",
    "print(answer)\n",
    "print(repr(answer))"
   ]
  },
  {
   "cell_type": "markdown",
   "metadata": {
    "colab_type": "text",
    "id": "1N-UG_wRsaz2"
   },
   "source": [
    "## Inheritance\n",
    "\n",
    "It can be said that Wizard & Fighter both inherit from Character. All fields and methods from any base classes will automatically be present in all derived classes. This is one way to share behavior and data across many classes.\n"
   ]
  },
  {
   "cell_type": "code",
   "execution_count": 0,
   "metadata": {
    "colab": {
     "base_uri": "https://localhost:8080/",
     "height": 102
    },
    "colab_type": "code",
    "id": "MzZUKhFysbY7",
    "outputId": "a532f658-42d6-40f5-9fae-4245a5ee310d"
   },
   "outputs": [
    {
     "name": "stdout",
     "output_type": "stream",
     "text": [
      "Wizard Health: 10\n",
      "Wizard Mana: 20\n",
      "\n",
      "Fighter Health: 10\n",
      "Fighter Power: 15\n"
     ]
    }
   ],
   "source": [
    "class Character:\n",
    "    \"\"\" Base Class \"\"\"\n",
    "    health = 10\n",
    "\n",
    "\n",
    "class Wizard(Character):\n",
    "    \"\"\" Derived Class \"\"\"\n",
    "    mana = 20\n",
    "\n",
    "\n",
    "class Fighter(Character):\n",
    "    \"\"\" Derived Class \"\"\"\n",
    "    power = 15\n",
    "\n",
    "\n",
    "wizard_object = Wizard()\n",
    "print(\"Wizard Health:\", wizard_object.health)\n",
    "print(\"Wizard Mana:\", wizard_object.mana)\n",
    "print()\n",
    "fighter_object = Fighter()\n",
    "print(\"Fighter Health:\", fighter_object.health)\n",
    "print(\"Fighter Power:\", fighter_object.power)"
   ]
  },
  {
   "cell_type": "markdown",
   "metadata": {
    "colab_type": "text",
    "id": "eT1oZfEpsicF"
   },
   "source": [
    "### Avoid Multiple Inheritance\n",
    "\n",
    "The JunkYardShip below, only fires with the power of a StarFighter. This is due to the order that the base classes are inherited... `JunkYardShip(StarFighter, IonCanon)` should be `JunkYardShip(IonCanon, StarFighter)`, and this is weird. This seems backwards to anyone that knows how CSS works. \n",
    "\n",
    "Multiple Inheritance is not considered Pythonic and generally it's best avoided. Composition is a much better pattern, see the `StarDestroyer()` class."
   ]
  },
  {
   "cell_type": "code",
   "execution_count": 0,
   "metadata": {
    "colab": {
     "base_uri": "https://localhost:8080/",
     "height": 68
    },
    "colab_type": "code",
    "id": "o7sBCl4hsRfa",
    "outputId": "60e55be9-505e-4dca-e4bb-42d8e963cb0a"
   },
   "outputs": [
    {
     "name": "stdout",
     "output_type": "stream",
     "text": [
      "StarFighter: 10\n",
      "JunkYardShip: 10\n",
      "StarDestroyer: 100\n"
     ]
    }
   ],
   "source": [
    "class StarFighter:\n",
    "\n",
    "    def fire(self):\n",
    "        return 10\n",
    "\n",
    "\n",
    "class IonCanon:\n",
    "\n",
    "    def fire(self):\n",
    "        return 100\n",
    "\n",
    "\n",
    "class JunkYardShip(StarFighter, IonCanon):  # Don't do this\n",
    "    \"\"\" I have a bad feeling about this. \"\"\"\n",
    "    pass\n",
    "\n",
    "\n",
    "class StarDestroyer(StarFighter):  # Do this instead\n",
    "    \"\"\" This class uses composition to gain \n",
    "    the full fire power of the IonCanon. \"\"\"\n",
    "    primary_weapon = IonCanon()\n",
    "\n",
    "    def fire(self):\n",
    "        return self.primary_weapon.fire()\n",
    "\n",
    "\n",
    "fighter = StarFighter()\n",
    "print(f\"StarFighter: {fighter.fire()}\")\n",
    "\n",
    "junk_ship = JunkYardShip()\n",
    "print(f\"JunkYardShip: {junk_ship.fire()}\")\n",
    "\n",
    "destroyer = StarDestroyer()\n",
    "print(f\"StarDestroyer: {destroyer.fire()}\")"
   ]
  },
  {
   "cell_type": "markdown",
   "metadata": {
    "colab_type": "text",
    "id": "bZAKkFa5spmM"
   },
   "source": [
    "## Polymorphism\n",
    "The example below uses inheritance to achieve full polymorphism between Monsters and Bosses. All fields and methods match in name and logical behavior. They do not need to hold the same data. This allows the two types of objects to be used interchangeably - and yet leverage their logical differences. Inheritance is not the only way to achieve polymorphism.\n"
   ]
  },
  {
   "cell_type": "code",
   "execution_count": 0,
   "metadata": {
    "colab": {},
    "colab_type": "code",
    "id": "xkxrJ0J3slBz"
   },
   "outputs": [],
   "source": [
    "import random\n",
    "\n",
    "\n",
    "def dice(rolls, sides):\n",
    "    return sum(random.randint(1, sides) for _ in range(rolls))\n",
    "\n",
    "\n",
    "class Monster:\n",
    "    creature_type = \"Monster\"\n",
    "    hit_dice = 8\n",
    "    damage_dice = 6\n",
    "    names = (\"Goblin\", \"Troll\", \"Giant\", \"Zombie\", \"Ghoul\", \"Vampire\")\n",
    "\n",
    "    def __init__(self, level=1):\n",
    "        self.level = level\n",
    "        self.name = self.random_name()\n",
    "        self.total_health = dice(self.level, self.hit_dice)\n",
    "        self.current_health = self.total_health\n",
    "\n",
    "    def take_damage(self, amount):\n",
    "        print(f\"{self.name} takes {amount} damage!\")\n",
    "        self.current_health -= amount\n",
    "    \n",
    "    def deal_damage(self):\n",
    "        return dice(self.level, self.damage_dice)\n",
    "\n",
    "    def __str__(self):\n",
    "        output = (\n",
    "            f\"{self.creature_type}: {self.name}\",\n",
    "            f\"Level: {self.level}\",\n",
    "            f\"Health: {self.current_health}/{self.total_health}\",\n",
    "        )\n",
    "        return \"\\n\".join(output)\n",
    "\n",
    "    def random_name(self):\n",
    "        return random.choice(self.names)\n",
    "\n",
    "\n",
    "class Boss(Monster):\n",
    "    creature_type = \"Boss\"\n",
    "    hit_dice = 12\n",
    "    damage_dice = 8\n",
    "    names = (\n",
    "        \"The Loch Ness Monster\", \"Godzilla\", \"Nero the Sunblade\",\n",
    "        \"The Spider Queen\", \"Palladia Morris\", \"The Blood Countess\",\n",
    "    )"
   ]
  },
  {
   "cell_type": "code",
   "execution_count": 0,
   "metadata": {
    "colab": {
     "base_uri": "https://localhost:8080/",
     "height": 153
    },
    "colab_type": "code",
    "id": "yOXs3DAXAqV0",
    "outputId": "c47038ca-749f-4644-f8f5-9e7a786c2ebe"
   },
   "outputs": [
    {
     "name": "stdout",
     "output_type": "stream",
     "text": [
      "Monster: Giant\n",
      "Level: 10\n",
      "Health: 42/42 \n",
      "\n",
      "Boss: The Loch Ness Monster\n",
      "Level: 20\n",
      "Health: 111/111 \n",
      "\n"
     ]
    }
   ],
   "source": [
    "some_monster = Monster(10)\n",
    "print(some_monster, '\\n')\n",
    "\n",
    "dungeon_boss = Boss(20)\n",
    "print(dungeon_boss, '\\n')"
   ]
  },
  {
   "cell_type": "code",
   "execution_count": 0,
   "metadata": {
    "colab": {
     "base_uri": "https://localhost:8080/",
     "height": 34
    },
    "colab_type": "code",
    "id": "fILrBhlQ-k9w",
    "outputId": "d8623a07-1ca1-4297-f971-1c2a7f98859e"
   },
   "outputs": [
    {
     "name": "stdout",
     "output_type": "stream",
     "text": [
      "The Loch Ness Monster takes 31 damage!\n"
     ]
    }
   ],
   "source": [
    "dungeon_boss.take_damage(some_monster.deal_damage())"
   ]
  },
  {
   "cell_type": "code",
   "execution_count": 0,
   "metadata": {
    "colab": {
     "base_uri": "https://localhost:8080/",
     "height": 68
    },
    "colab_type": "code",
    "id": "epd_PxdaAnC-",
    "outputId": "c30b6c3f-37aa-46a4-b043-982518b2ed51"
   },
   "outputs": [
    {
     "name": "stdout",
     "output_type": "stream",
     "text": [
      "Boss: The Loch Ness Monster\n",
      "Level: 20\n",
      "Health: 80/111\n"
     ]
    }
   ],
   "source": [
    "print(dungeon_boss)"
   ]
  },
  {
   "cell_type": "code",
   "execution_count": 0,
   "metadata": {
    "colab": {
     "base_uri": "https://localhost:8080/",
     "height": 34
    },
    "colab_type": "code",
    "id": "gowc886aBGRC",
    "outputId": "16c65e98-027f-4f30-e1f1-4e0a60f03744"
   },
   "outputs": [
    {
     "name": "stdout",
     "output_type": "stream",
     "text": [
      "Giant takes 92 damage!\n"
     ]
    }
   ],
   "source": [
    "some_monster.take_damage(dungeon_boss.deal_damage())"
   ]
  },
  {
   "cell_type": "code",
   "execution_count": 0,
   "metadata": {
    "colab": {
     "base_uri": "https://localhost:8080/",
     "height": 68
    },
    "colab_type": "code",
    "id": "eDPTfH3tBM49",
    "outputId": "a8b17d44-dc95-4dd2-f524-80e981275ee4"
   },
   "outputs": [
    {
     "name": "stdout",
     "output_type": "stream",
     "text": [
      "Monster: Giant\n",
      "Level: 10\n",
      "Health: -50/42\n"
     ]
    }
   ],
   "source": [
    "print(some_monster)"
   ]
  },
  {
   "cell_type": "markdown",
   "metadata": {
    "colab_type": "text",
    "id": "6uoZer-Ysy9M"
   },
   "source": [
    "## Class Scope\n",
    "This can be tricky. It's better not to think of what is going on here as scope. But rather a blueprint to make objects. Sometimes the blueprint would like to refer to itself. This complicates things a great deal. What is self? Is it the class or the instance object? We want both abilities, and here we are. The convention is that when we use param 'self' we mean the instance object, when we actually mean the class, meaning in class methods, we will instead use the param 'cls'.\n",
    "\n",
    "In Java it's required to declare what are known as 'get' and 'set' methods to read and write class fields. In Python we may we drink java, but we never write get or set methods. We have direct access to all fields all the time. This is only partially true, see class methods and static methods for exceptions to this rule.\n"
   ]
  },
  {
   "cell_type": "code",
   "execution_count": 0,
   "metadata": {
    "colab": {
     "base_uri": "https://localhost:8080/",
     "height": 204
    },
    "colab_type": "code",
    "id": "DgEbdWLpsvdy",
    "outputId": "faacb771-b8a6-4100-e36e-2b18916a63b6"
   },
   "outputs": [
    {
     "name": "stdout",
     "output_type": "stream",
     "text": [
      "From the Class:\n",
      "class_variable\n",
      "class_variable: via class method\n",
      "local_variable: via static method\n",
      "\n",
      "From the Instance:\n",
      "instance_variable\n",
      "instance_variable: via instance method\n",
      "class_variable\n",
      "class_variable: via class method\n",
      "local_variable: via static method\n"
     ]
    }
   ],
   "source": [
    "class ClassScope:\n",
    "    # self does not exit yet.\n",
    "    class_variable = \"class_variable\"\n",
    "\n",
    "    def __init__(self):\n",
    "        \"\"\" \n",
    "        Local scope inside a method is just like function scope. However,\n",
    "        methods also have access to class scope and instance scope\n",
    "        through self. \"\"\"\n",
    "\n",
    "        self.instance_variable = \"instance_variable\"\n",
    "\n",
    "    def instance_method(self):\n",
    "        \"\"\" This is a regular Instance Method.\n",
    "        We have access to everything from here.\n",
    "        Don't over think it, most of the time this is what you want.\n",
    "        While it is common to modify instance variables here, it is not wise to\n",
    "        declare them here. Use the `__init__()` method for that. Use instance\n",
    "        methods, like this one, to read and update instance variables. \"\"\"\n",
    "\n",
    "        return self.instance_variable + \": via instance method\"\n",
    "\n",
    "    @classmethod\n",
    "    def classy_method(cls):\n",
    "        \"\"\" This is a Class Method.\n",
    "        It's more restricted than regular methods. Instead of the `self`\n",
    "        param we use the `cls` param. This is a convention to indicate\n",
    "        we expect this method to live on a class that might possibly never\n",
    "        be instantiated. This is the whole point of having class methods.\n",
    "        This ability comes at a cost: everything we access from this scope\n",
    "        must live on the class itself, not an instance. Only static methods,\n",
    "        class methods and class variables are accessible here. \"\"\"\n",
    "\n",
    "        return cls.class_variable + \": via class method\"\n",
    "\n",
    "    @staticmethod\n",
    "    def selfless_method():\n",
    "        \"\"\" This is a Static Method.\n",
    "        It's way more restricted than regular methods. Static Methods\n",
    "        have no concept of `self` or `cls` and cannot access anything.\n",
    "\n",
    "        This is a prime candidate to refactor into a function. \"\"\"\n",
    "\n",
    "        local_variable = \"local_variable\"\n",
    "        return local_variable + \": via static method\"\n",
    "\n",
    "\n",
    "# Class Scope\n",
    "print(\"From the Class:\")\n",
    "print(ClassScope.class_variable)     # There is no spoon, i mean...\n",
    "print(ClassScope.classy_method())    # There is no instance.\n",
    "print(ClassScope.selfless_method())  # But we have lots of class!\n",
    "print()\n",
    "# Instance Scope\n",
    "print(\"From the Instance:\")\n",
    "instance_object = ClassScope()            # instance object instantiated.\n",
    "print(instance_object.instance_variable)  # now we have everything...\n",
    "print(instance_object.instance_method())  #    ...except local variables.\n",
    "print(instance_object.class_variable)\n",
    "print(instance_object.classy_method())\n",
    "print(instance_object.selfless_method())"
   ]
  },
  {
   "cell_type": "markdown",
   "metadata": {
    "colab_type": "text",
    "id": "l7kN7PVjZ6C1"
   },
   "source": [
    "# Advanced Class Topics\n",
    "\n",
    "\n",
    "\n",
    "\n"
   ]
  },
  {
   "cell_type": "markdown",
   "metadata": {
    "colab_type": "text",
    "id": "hEdOd-MhKrq0"
   },
   "source": [
    "- [Python's Class Development Toolkit | YouTube.com](https://www.youtube.com/watch?v=HTLu2DFOdTg&t=943s) Raymond Hettinger"
   ]
  },
  {
   "cell_type": "markdown",
   "metadata": {
    "colab_type": "text",
    "id": "LFo2-Uf5GdZp"
   },
   "source": [
    "## Super Function\n",
    "\n",
    "The super function is required when more than one class in a hierarchy has an `__init__()` method. Below `Wizard` inherits from `Player` and they both have an `__init__()` method. To make this work we need to call `super().__init__()` in the child class's `__init__()`, and we should usually do that first. The super call will have the same signature as the `__init__()` of the parent class. See below.\n",
    "\n",
    "\n",
    "- [Super Considered Super! | YouTube.com]() Raymond Hettinger\n"
   ]
  },
  {
   "cell_type": "code",
   "execution_count": 0,
   "metadata": {
    "colab": {
     "base_uri": "https://localhost:8080/",
     "height": 204
    },
    "colab_type": "code",
    "id": "olM823DFGsGw",
    "outputId": "770b867e-b4dd-4106-fd1a-c62c1c1da9d0"
   },
   "outputs": [
    {
     "name": "stdout",
     "output_type": "stream",
     "text": [
      "Name: George\n",
      "  Class: Villager\n",
      "  Level: 1\n",
      "  Health: 8\n",
      "\n",
      "Name: Jim Darkmagic\n",
      "  Class: Wizard of Illusion\n",
      "  Level: 10\n",
      "  Health: 80\n",
      "  Mana: 100\n",
      "\n"
     ]
    }
   ],
   "source": [
    "class Player:\n",
    "\n",
    "    def __init__(self, name, level):\n",
    "        self.Name = name\n",
    "        self.Class = \"Villager\"\n",
    "        self.Level = min(max(1, level), 20)  # Min: 1, Max: 20\n",
    "        self.Health = self.Level * 8\n",
    "\n",
    "    def __str__(self):\n",
    "        _fields = (f\"{k}: {v}\" for k, v in self.__dict__.items())\n",
    "        return '\\n  '.join(_fields) + '\\n'\n",
    "\n",
    "\n",
    "class Wizard(Player):\n",
    "\n",
    "    def __init__(self, name, level, school):\n",
    "        super().__init__(name, level)\n",
    "        self.Class = f\"Wizard of {school}\"\n",
    "        self.Mana = self.Level * 10\n",
    "\n",
    "\n",
    "print(Player(\"George\", 1))\n",
    "print(Wizard(\"Jim Darkmagic\", level=10, school=\"Illusion\"))"
   ]
  },
  {
   "cell_type": "markdown",
   "metadata": {
    "colab_type": "text",
    "id": "TNup47GpEs5L"
   },
   "source": [
    "## Meta Classes\n",
    "\n",
    "\n",
    "* [Meta Programming | YouTube.com](https://youtu.be/sPiWg5jSoZI) David Beazley\n",
    "\n",
    "If a class is an object factory, then a meta class is a class factory. Meta Classes are often considered black magic, please use them with caution. Meta classes should never be your first impulse as a solution to solve any given puzzle. Often a simple decorator will be faster, easier and less surprising.\n",
    "\n",
    "Custom meta classes typically inherit from `type` and redefine the `__new__()` method. A meta class is like a class decorator in capability but the meta class allows modifications to take place before the instances are created. Decorators do their magic strictly after the fact. While a decorator can affects any decorated class individually, a meta class at the top level will affect an entire class hierarchy."
   ]
  },
  {
   "cell_type": "code",
   "execution_count": 0,
   "metadata": {
    "colab": {
     "base_uri": "https://localhost:8080/",
     "height": 51
    },
    "colab_type": "code",
    "id": "dqz37X5_MNEl",
    "outputId": "c759d127-fde7-413b-a573-94c54199042b"
   },
   "outputs": [
    {
     "name": "stdout",
     "output_type": "stream",
     "text": [
      "A New Foo named Bar!\n",
      "A New Foo named Baz!\n"
     ]
    }
   ],
   "source": [
    "class Foo(type):\n",
    "    def __new__(cls, name, bases, clsdict):\n",
    "        print(f\"A New {cls.__qualname__} named {name}!\")\n",
    "        return super().__new__(cls, name, bases, clsdict)\n",
    "\n",
    "\n",
    "class Bar(metaclass=Foo):\n",
    "    \"\"\" If Foo must be declared as a metaclass `metaclass=Foo`.\n",
    "    This will not work the same if we just inherit from Foo. \"\"\"\n",
    "    pass\n",
    "\n",
    "\n",
    "class Baz(Bar):\n",
    "    \"\"\" Now we can inherit from Bar and get the same behavior. \"\"\"\n",
    "    pass\n",
    "\n",
    "b = Bar()\n",
    "z = Baz()"
   ]
  },
  {
   "cell_type": "markdown",
   "metadata": {
    "colab_type": "text",
    "id": "iLChWJ2fXWKZ"
   },
   "source": [
    "### Structure Example"
   ]
  },
  {
   "cell_type": "code",
   "execution_count": 0,
   "metadata": {
    "colab": {},
    "colab_type": "code",
    "id": "3yPNXQ-jZJWc"
   },
   "outputs": [],
   "source": [
    "from inspect import Parameter, Signature"
   ]
  },
  {
   "cell_type": "code",
   "execution_count": 0,
   "metadata": {
    "colab": {},
    "colab_type": "code",
    "id": "DkyGT-CjLh_F"
   },
   "outputs": [],
   "source": [
    "class StructMeta(type):\n",
    "    def __new__(cls, clsname, bases, clsdict):\n",
    "        clsobj = super().__new__(cls, clsname, bases, clsdict)\n",
    "        sig = cls.make_signature(clsobj._fields)\n",
    "        setattr(clsobj, '__signature__', sig)\n",
    "        return clsobj\n",
    "\n",
    "    @staticmethod\n",
    "    def make_signature(names):\n",
    "        return Signature(\n",
    "            Parameter(name, Parameter.POSITIONAL_OR_KEYWORD) \n",
    "            for name in names)\n",
    "\n",
    "\n",
    "class Structure(metaclass=StructMeta):\n",
    "    _fields = []\n",
    "    def __init__(self, *args, **kwargs):\n",
    "        bound = self.__signature__.bind(*args, **kwargs)\n",
    "        for name, val in bound.arguments.items():\n",
    "            setattr(self, name, val)\n",
    "    \n",
    "    def __str__(self):\n",
    "        out = (f\"{name}: {val}\" for name, val in self.__dict__.items())\n",
    "        return '\\n'.join(out)"
   ]
  },
  {
   "cell_type": "code",
   "execution_count": 0,
   "metadata": {
    "colab": {
     "base_uri": "https://localhost:8080/",
     "height": 34
    },
    "colab_type": "code",
    "id": "ee28yx2GZhD-",
    "outputId": "f0e62f18-6a19-4bb6-8ccf-e5bac676cbe9"
   },
   "outputs": [
    {
     "name": "stdout",
     "output_type": "stream",
     "text": [
      "name: Baz\n"
     ]
    }
   ],
   "source": [
    "class Struct(Structure):\n",
    "    _fields = ['name']\n",
    "\n",
    "\n",
    "s = Struct(\"Baz\")\n",
    "print(s)"
   ]
  },
  {
   "cell_type": "markdown",
   "metadata": {
    "colab_type": "text",
    "id": "p0cyjWqFA2RD"
   },
   "source": [
    "## Dataclasses\n",
    "\n",
    "The dataclass is a class decorator for quickly defining a common type of class without all the boilerplate.\n",
    "\n",
    "- [Dataclasses | YouTube.com](https://youtu.be/T-TwcmT6Rcw?t=110) Raymond Hettinger "
   ]
  },
  {
   "cell_type": "code",
   "execution_count": 0,
   "metadata": {
    "colab": {},
    "colab_type": "code",
    "id": "8YWCuXtmZtHB"
   },
   "outputs": [],
   "source": [
    "from dataclasses import dataclass\n",
    "\n",
    "\n",
    "@dataclass\n",
    "class Color:\n",
    "    hue: int\n",
    "    saturation: float\n",
    "    lightness: float = 0.5\n",
    "    "
   ]
  },
  {
   "cell_type": "code",
   "execution_count": 0,
   "metadata": {
    "colab": {
     "base_uri": "https://localhost:8080/",
     "height": 34
    },
    "colab_type": "code",
    "id": "Sv_EEAQmAfBB",
    "outputId": "f4e73d33-bf9b-4da2-d47d-6dfb9595e28b"
   },
   "outputs": [
    {
     "name": "stdout",
     "output_type": "stream",
     "text": [
      "Color(hue=240, saturation=0.75, lightness=0.75)\n"
     ]
    }
   ],
   "source": [
    "blue = Color(hue=240, saturation=0.75, lightness=0.75)\n",
    "print(blue)"
   ]
  },
  {
   "cell_type": "code",
   "execution_count": 0,
   "metadata": {
    "colab": {
     "base_uri": "https://localhost:8080/",
     "height": 68
    },
    "colab_type": "code",
    "id": "5Rp0Gs-_AtrM",
    "outputId": "859fff7d-ce38-4e07-a9de-c6a6d10b30cf"
   },
   "outputs": [
    {
     "name": "stdout",
     "output_type": "stream",
     "text": [
      "240\n",
      "0.75\n",
      "0.75\n"
     ]
    }
   ],
   "source": [
    "print(blue.hue)\n",
    "print(blue.saturation)\n",
    "print(blue.lightness)"
   ]
  },
  {
   "cell_type": "code",
   "execution_count": 0,
   "metadata": {
    "colab": {
     "base_uri": "https://localhost:8080/",
     "height": 34
    },
    "colab_type": "code",
    "id": "FCf7GHOEAyyK",
    "outputId": "7901903d-13f1-4257-a7f3-b2391816973c"
   },
   "outputs": [
    {
     "name": "stdout",
     "output_type": "stream",
     "text": [
      "False\n"
     ]
    }
   ],
   "source": [
    "light_blue = Color(hue=240, saturation=0.75, lightness=0.25)\n",
    "print(light_blue == blue)"
   ]
  },
  {
   "cell_type": "code",
   "execution_count": 0,
   "metadata": {
    "colab": {
     "base_uri": "https://localhost:8080/",
     "height": 34
    },
    "colab_type": "code",
    "id": "9FBNlKMDEA7H",
    "outputId": "43ddddea-9fef-4086-b90e-43f968448cb5"
   },
   "outputs": [
    {
     "name": "stdout",
     "output_type": "stream",
     "text": [
      "True\n"
     ]
    }
   ],
   "source": [
    "blue2 = Color(hue=240, saturation=0.75, lightness=0.75)\n",
    "print(blue == blue2)"
   ]
  }
 ],
 "metadata": {
  "colab": {
   "collapsed_sections": [],
   "name": "Python OOP Cheat Sheet.ipynb",
   "provenance": []
  },
  "kernelspec": {
   "display_name": "Python 3",
   "language": "python",
   "name": "python3"
  },
  "language_info": {
   "codemirror_mode": {
    "name": "ipython",
    "version": 3
   },
   "file_extension": ".py",
   "mimetype": "text/x-python",
   "name": "python",
   "nbconvert_exporter": "python",
   "pygments_lexer": "ipython3",
   "version": "3.7.6"
  }
 },
 "nbformat": 4,
 "nbformat_minor": 1
}
